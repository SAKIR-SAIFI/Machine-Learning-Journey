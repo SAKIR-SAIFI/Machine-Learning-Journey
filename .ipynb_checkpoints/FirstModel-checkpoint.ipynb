{
 "cells": [
  {
   "cell_type": "markdown",
   "id": "391e29af-c249-4e0f-b1e9-62739773daab",
   "metadata": {},
   "source": [
    "Step 1: Import Libraries"
   ]
  },
  {
   "cell_type": "code",
   "execution_count": 4,
   "id": "902db510-7bbb-4e68-b71f-52050ac28860",
   "metadata": {},
   "outputs": [],
   "source": [
    "import numpy as np\n",
    "import pandas as pd\n",
    "from sklearn.model_selection import train_test_split\n",
    "from sklearn.linear_model import LogisticRegression\n",
    "from sklearn.metrics import accuracy_score, classification_report , confusion_matrix"
   ]
  },
  {
   "cell_type": "markdown",
   "id": "af733985-3ec0-46ea-8f75-148359e9b895",
   "metadata": {},
   "source": [
    "Step 2: Load and Explore Data"
   ]
  },
  {
   "cell_type": "markdown",
   "id": "7fe4144b-c1b1-4649-9f7e-26db81449b61",
   "metadata": {},
   "source": [
    "For this example, we’ll use the Iris dataset, a classic dataset for classification."
   ]
  },
  {
   "cell_type": "code",
   "execution_count": 5,
   "id": "1441e7fd-1bdf-4655-8558-d5d04f40c11d",
   "metadata": {},
   "outputs": [
    {
     "name": "stdout",
     "output_type": "stream",
     "text": [
      "Feature Names:  ['sepal length (cm)', 'sepal width (cm)', 'petal length (cm)', 'petal width (cm)']\n",
      "Target Names:  ['setosa' 'versicolor' 'virginica']\n",
      "First 5 Rows of Data:\n",
      " [[5.1 3.5 1.4 0.2]\n",
      " [4.9 3.  1.4 0.2]\n",
      " [4.7 3.2 1.3 0.2]\n",
      " [4.6 3.1 1.5 0.2]\n",
      " [5.  3.6 1.4 0.2]]\n",
      "Target Labels:\n",
      " [0 0 0 0 0]\n"
     ]
    }
   ],
   "source": [
    "from sklearn.datasets import load_iris\n",
    "\n",
    "#load dataset\n",
    "iris = load_iris()\n",
    "X = iris.data   #features\n",
    "Y = iris.target  #labels\n",
    "\n",
    "#check the dataset\n",
    "print(\"Feature Names: \", iris.feature_names)\n",
    "print(\"Target Names: \", iris.target_names)\n",
    "print(\"First 5 Rows of Data:\\n\",X[:5])\n",
    "print(\"Target Labels:\\n\",Y[:5])\n"
   ]
  },
  {
   "cell_type": "code",
   "execution_count": null,
   "id": "6e7c0dfc-ad57-4c55-8680-644b317bd7f4",
   "metadata": {},
   "outputs": [],
   "source": []
  },
  {
   "cell_type": "code",
   "execution_count": null,
   "id": "a3f5bf66-0b1d-4d90-b0ee-cb7ff60c6430",
   "metadata": {},
   "outputs": [],
   "source": []
  }
 ],
 "metadata": {
  "kernelspec": {
   "display_name": "Python 3 (ipykernel)",
   "language": "python",
   "name": "python3"
  },
  "language_info": {
   "codemirror_mode": {
    "name": "ipython",
    "version": 3
   },
   "file_extension": ".py",
   "mimetype": "text/x-python",
   "name": "python",
   "nbconvert_exporter": "python",
   "pygments_lexer": "ipython3",
   "version": "3.12.1"
  }
 },
 "nbformat": 4,
 "nbformat_minor": 5
}
